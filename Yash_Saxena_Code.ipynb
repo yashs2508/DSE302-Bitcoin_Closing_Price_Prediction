{
  "cells": [
    {
      "cell_type": "markdown",
      "source": [
        "# Bitcoin Closing Price Prediction"
      ],
      "metadata": {
        "id": "yHuB8WXLtXHI"
      }
    },
    {
      "cell_type": "code",
      "execution_count": 30,
      "metadata": {
        "id": "WMAYvPW-pRPw"
      },
      "outputs": [],
      "source": [
        "import pandas as pd\n",
        "import numpy as np\n",
        "from sklearn.model_selection import train_test_split \n",
        "import matplotlib.pyplot as plt\n",
        "import seaborn as sns\n",
        "from sklearn.metrics import mean_absolute_error, mean_squared_error, max_error, median_absolute_error, r2_score, explained_variance_score\n",
        "from sklearn.metrics import mean_absolute_percentage_error\n",
        "from sklearn.model_selection import train_test_split\n",
        "from sklearn.feature_selection import SelectKBest\n",
        "from sklearn.feature_selection import f_regression,mutual_info_regression\n",
        "from sklearn.linear_model import LinearRegression\n",
        "from sklearn.svm import SVR\n",
        "from sklearn.tree import DecisionTreeRegressor\n",
        "from sklearn.ensemble  import RandomForestRegressor\n",
        "from sklearn.neighbors import KNeighborsRegressor\n",
        "from sklearn.neural_network import MLPRegressor\n",
        "from sklearn.model_selection import cross_val_score\n",
        "from sklearn.model_selection import GridSearchCV,RandomizedSearchCV\n",
        "import warnings\n",
        "warnings.filterwarnings(\"ignore\")"
      ]
    },
    {
      "cell_type": "code",
      "execution_count": 31,
      "metadata": {
        "id": "hP5NVeq6pRQM"
      },
      "outputs": [],
      "source": [
        "df_train_data = pd.read_csv(\"/train_data.csv\")\n",
        "df_train_data = df_train_data.iloc[:,1:]\n",
        "df_train_target = pd.read_csv(\"/train_label.csv\")\n",
        "df_train_target = df_train_target.iloc[:,1:]"
      ]
    },
    {
      "cell_type": "code",
      "execution_count": 32,
      "metadata": {
        "colab": {
          "base_uri": "https://localhost:8080/",
          "height": 424
        },
        "id": "xBfunX3kpRQP",
        "outputId": "6a2c671b-3d9a-41e8-bf75-6ce88e709963"
      },
      "outputs": [
        {
          "output_type": "execute_result",
          "data": {
            "text/plain": [
              "        close\n",
              "0     1158.00\n",
              "1    14450.01\n",
              "2      583.00\n",
              "3      327.00\n",
              "4      352.57\n",
              "..        ...\n",
              "744    378.68\n",
              "745    282.62\n",
              "746   4603.49\n",
              "747    595.14\n",
              "748   1292.86\n",
              "\n",
              "[749 rows x 1 columns]"
            ],
            "text/html": [
              "\n",
              "  <div id=\"df-385912ad-4b63-4c14-a776-3cb7834ec5b5\">\n",
              "    <div class=\"colab-df-container\">\n",
              "      <div>\n",
              "<style scoped>\n",
              "    .dataframe tbody tr th:only-of-type {\n",
              "        vertical-align: middle;\n",
              "    }\n",
              "\n",
              "    .dataframe tbody tr th {\n",
              "        vertical-align: top;\n",
              "    }\n",
              "\n",
              "    .dataframe thead th {\n",
              "        text-align: right;\n",
              "    }\n",
              "</style>\n",
              "<table border=\"1\" class=\"dataframe\">\n",
              "  <thead>\n",
              "    <tr style=\"text-align: right;\">\n",
              "      <th></th>\n",
              "      <th>close</th>\n",
              "    </tr>\n",
              "  </thead>\n",
              "  <tbody>\n",
              "    <tr>\n",
              "      <th>0</th>\n",
              "      <td>1158.00</td>\n",
              "    </tr>\n",
              "    <tr>\n",
              "      <th>1</th>\n",
              "      <td>14450.01</td>\n",
              "    </tr>\n",
              "    <tr>\n",
              "      <th>2</th>\n",
              "      <td>583.00</td>\n",
              "    </tr>\n",
              "    <tr>\n",
              "      <th>3</th>\n",
              "      <td>327.00</td>\n",
              "    </tr>\n",
              "    <tr>\n",
              "      <th>4</th>\n",
              "      <td>352.57</td>\n",
              "    </tr>\n",
              "    <tr>\n",
              "      <th>...</th>\n",
              "      <td>...</td>\n",
              "    </tr>\n",
              "    <tr>\n",
              "      <th>744</th>\n",
              "      <td>378.68</td>\n",
              "    </tr>\n",
              "    <tr>\n",
              "      <th>745</th>\n",
              "      <td>282.62</td>\n",
              "    </tr>\n",
              "    <tr>\n",
              "      <th>746</th>\n",
              "      <td>4603.49</td>\n",
              "    </tr>\n",
              "    <tr>\n",
              "      <th>747</th>\n",
              "      <td>595.14</td>\n",
              "    </tr>\n",
              "    <tr>\n",
              "      <th>748</th>\n",
              "      <td>1292.86</td>\n",
              "    </tr>\n",
              "  </tbody>\n",
              "</table>\n",
              "<p>749 rows × 1 columns</p>\n",
              "</div>\n",
              "      <button class=\"colab-df-convert\" onclick=\"convertToInteractive('df-385912ad-4b63-4c14-a776-3cb7834ec5b5')\"\n",
              "              title=\"Convert this dataframe to an interactive table.\"\n",
              "              style=\"display:none;\">\n",
              "        \n",
              "  <svg xmlns=\"http://www.w3.org/2000/svg\" height=\"24px\"viewBox=\"0 0 24 24\"\n",
              "       width=\"24px\">\n",
              "    <path d=\"M0 0h24v24H0V0z\" fill=\"none\"/>\n",
              "    <path d=\"M18.56 5.44l.94 2.06.94-2.06 2.06-.94-2.06-.94-.94-2.06-.94 2.06-2.06.94zm-11 1L8.5 8.5l.94-2.06 2.06-.94-2.06-.94L8.5 2.5l-.94 2.06-2.06.94zm10 10l.94 2.06.94-2.06 2.06-.94-2.06-.94-.94-2.06-.94 2.06-2.06.94z\"/><path d=\"M17.41 7.96l-1.37-1.37c-.4-.4-.92-.59-1.43-.59-.52 0-1.04.2-1.43.59L10.3 9.45l-7.72 7.72c-.78.78-.78 2.05 0 2.83L4 21.41c.39.39.9.59 1.41.59.51 0 1.02-.2 1.41-.59l7.78-7.78 2.81-2.81c.8-.78.8-2.07 0-2.86zM5.41 20L4 18.59l7.72-7.72 1.47 1.35L5.41 20z\"/>\n",
              "  </svg>\n",
              "      </button>\n",
              "      \n",
              "  <style>\n",
              "    .colab-df-container {\n",
              "      display:flex;\n",
              "      flex-wrap:wrap;\n",
              "      gap: 12px;\n",
              "    }\n",
              "\n",
              "    .colab-df-convert {\n",
              "      background-color: #E8F0FE;\n",
              "      border: none;\n",
              "      border-radius: 50%;\n",
              "      cursor: pointer;\n",
              "      display: none;\n",
              "      fill: #1967D2;\n",
              "      height: 32px;\n",
              "      padding: 0 0 0 0;\n",
              "      width: 32px;\n",
              "    }\n",
              "\n",
              "    .colab-df-convert:hover {\n",
              "      background-color: #E2EBFA;\n",
              "      box-shadow: 0px 1px 2px rgba(60, 64, 67, 0.3), 0px 1px 3px 1px rgba(60, 64, 67, 0.15);\n",
              "      fill: #174EA6;\n",
              "    }\n",
              "\n",
              "    [theme=dark] .colab-df-convert {\n",
              "      background-color: #3B4455;\n",
              "      fill: #D2E3FC;\n",
              "    }\n",
              "\n",
              "    [theme=dark] .colab-df-convert:hover {\n",
              "      background-color: #434B5C;\n",
              "      box-shadow: 0px 1px 3px 1px rgba(0, 0, 0, 0.15);\n",
              "      filter: drop-shadow(0px 1px 2px rgba(0, 0, 0, 0.3));\n",
              "      fill: #FFFFFF;\n",
              "    }\n",
              "  </style>\n",
              "\n",
              "      <script>\n",
              "        const buttonEl =\n",
              "          document.querySelector('#df-385912ad-4b63-4c14-a776-3cb7834ec5b5 button.colab-df-convert');\n",
              "        buttonEl.style.display =\n",
              "          google.colab.kernel.accessAllowed ? 'block' : 'none';\n",
              "\n",
              "        async function convertToInteractive(key) {\n",
              "          const element = document.querySelector('#df-385912ad-4b63-4c14-a776-3cb7834ec5b5');\n",
              "          const dataTable =\n",
              "            await google.colab.kernel.invokeFunction('convertToInteractive',\n",
              "                                                     [key], {});\n",
              "          if (!dataTable) return;\n",
              "\n",
              "          const docLinkHtml = 'Like what you see? Visit the ' +\n",
              "            '<a target=\"_blank\" href=https://colab.research.google.com/notebooks/data_table.ipynb>data table notebook</a>'\n",
              "            + ' to learn more about interactive tables.';\n",
              "          element.innerHTML = '';\n",
              "          dataTable['output_type'] = 'display_data';\n",
              "          await google.colab.output.renderOutput(dataTable, element);\n",
              "          const docLink = document.createElement('div');\n",
              "          docLink.innerHTML = docLinkHtml;\n",
              "          element.appendChild(docLink);\n",
              "        }\n",
              "      </script>\n",
              "    </div>\n",
              "  </div>\n",
              "  "
            ]
          },
          "metadata": {},
          "execution_count": 32
        }
      ],
      "source": [
        "df_train_target"
      ]
    },
    {
      "cell_type": "code",
      "execution_count": 33,
      "metadata": {
        "id": "t1SZrmv-pRQT"
      },
      "outputs": [],
      "source": [
        "X_train, X_test, y_train, y_test = train_test_split(df_train_data,df_train_target, test_size=0.10, random_state=43)"
      ]
    },
    {
      "cell_type": "code",
      "execution_count": 38,
      "metadata": {
        "id": "tRMkQnSupRQV"
      },
      "outputs": [],
      "source": [
        "def regression_pipeline(rgg_opt = \"lr\"):\n",
        "        # Linear Regression\n",
        "        if rgg_opt == \"lr\":\n",
        "            print(\"\\n\\t### Training Linear Regression\\t###\\n\")\n",
        "            rgg = LinearRegression(fit_intercept=True, normalize=False, copy_X=True, n_jobs=None)\n",
        "            rgg_parameters = {\n",
        "                \"normalize\":(True, False),\n",
        "                \"copy_X\":(True, False),\n",
        "                \"fit_intercept\":(True, False),\n",
        "                \"n_jobs\":(1, None),\n",
        "                \n",
        "                \n",
        "            }\n",
        "        \n",
        "        # Decision Tree Regression:\n",
        "        elif rgg_opt == \"dtr\":\n",
        "            print(\"\\n\\t### Training the Decision Tree Regressor\\t ###\\n\")\n",
        "            rgg = DecisionTreeRegressor(criterion=\"squared_error\",splitter=\"best\")\n",
        "            rgg_parameters = {\n",
        "#                 \"splitter\":(\"best\",\"random\"),\n",
        "#                 \"max_features\":(\"auto\",\"sqrt\",\"log2\"),\n",
        "#                 \"max_depth\":(10,40,45,60),\n",
        "#                 \"ccp_alpha\":(0.009,0.01,0.05,0.1),\n",
        "#                 \"splitter\":(\"best\",\"random\"),\n",
        "#                 \"max_features\":(\"auto\",\"sqrt\",\"log2\"),\n",
        "#                 \"max_depth\":(40, 50, 60, 70, 80, 90),\n",
        "#                 \"ccp_alpha\":(0.0098,0.0099,0.01,0.011,0.012),\n",
        "#                 \"splitter\":(\"best\",\"random\"),\n",
        "#                 \"max_features\":(\"auto\",\"sqrt\",\"log2\"),\n",
        "#                 \"max_depth\":(60, 65, 70, 75, 80, 90),\n",
        "#                 \"ccp_alpha\":(0.0098,0.0099,0.01,0.0105, 0.011, 0.0115, 0.012)\n",
        "              #   \"splitter\":(\"best\",\"random\"),\n",
        "              #  \"max_features\":(\"auto\",\"sqrt\",\"log2\"),\n",
        "              #   \"max_depth\":(60, 65, 70, 75, 80, 90),\n",
        "              #   \"ccp_alpha\":(0.0098,0.0099,0.01,0.0105, 0.011, 0.0115, 0.012)\n",
        "              \"splitter\":(\"best\",\"random\"),\n",
        "                \"max_depth\":(60, 65, 70, 75, 80, 90),\n",
        "                \"ccp_alpha\":(0.0098,0.0099,0.01,0.0105, 0.011, 0.0115, 0.012)\n",
        "            }\n",
        "        \n",
        "        \n",
        "        # Random Forest Regression\n",
        "        elif rgg_opt == \"rfr\":\n",
        "            print(\"\\n\\t ### Training the Random Forest Regressor \\t###\\n\")\n",
        "            rgg = RandomForestRegressor(n_estimators=100, max_features=None)\n",
        "            rgg_parameters = {\n",
        "#                 \"n_estimators\":(30,50,70,90,100,200,400),\n",
        "#                 \"max_depth\":(10,20,30,50,100,200),\n",
        "#                 \"ccp_alpha\":(0.009,0.01,0.05,0.1),\n",
        "#                  \"n_estimators\":(20, 25, 30, 35, 40),\n",
        "#                  \"max_depth\":(10, 15, 18, 20, 22, 24 ,30),\n",
        "#                  \"ccp_alpha\":(0.02, 0.03, 0.04, 0.05,0.06, 0.07),\n",
        "                # \"n_estimators\":(25,26, 27,28, 29, 30, 31, 32, 33,34, 35, 36, 37, 38, 39, 40),\n",
        "                # \"max_depth\":(12, 13, 14, 15, 16, 17, 18, 19, 20),\n",
        "                # \"ccp_alpha\":(0.0295, 0.03, 0.06, 0.07, 0.08, 0.09, 0.05),\n",
        "                \"n_estimators\":(15, 16, 17, 18, 19, 20, 21, 22, 23, 24, 25, 26, 27,28, 29, 30, 31, 32, 33, 34, 35),\n",
        "                \"max_depth\":(10, 11, 12, 13, 14, 15, 16, 17, 18, 19, 20, 21, 22, 23, 24, 25),\n",
        "                \"ccp_alpha\":(0.0295, 0.03,  0.05, 0.06, 0.065, 0.066, 0.069, 0.07, 0.071, 0.075, 0.08, 0.09),\n",
        "             }\n",
        "      \n",
        "            \n",
        "        # K-Neighbors Regresssion\n",
        "        elif rgg_opt == \"knn\":\n",
        "            print(\"\\n\\t### Training the K-N Regressor \\t###\\n\")\n",
        "            rgg = KNeighborsRegressor(weights=\"uniform\")\n",
        "            rgg_parameters = {\n",
        "#                 \"n_neighbors\":(3,5,10,20,40,80),\n",
        "                # \"n_neighbors\":(1,2,3,4),\n",
        "                \"algorithm\":(\"auto\", \"ball_tree\", \"kd_tree\", \"brute\"),\n",
        "#                 \"leaf_size\":(20,30,40,60,100),\n",
        "                # \"leaf_size\":(1,10,15,18,20,22,25),\n",
        "                \"n_neighbors\":(2,3,4,5),\n",
        "                \"leaf_size\":(3, 4, 5 , 6, 7),\n",
        "            }\n",
        "        \n",
        "            \n",
        "        else:\n",
        "            print(\"\\n\\t Select the Valid Classifier ### \\n\")\n",
        "        return rgg,rgg_parameters"
      ]
    },
    {
      "cell_type": "code",
      "execution_count": null,
      "metadata": {
        "id": "Tyfn11e-pRQg",
        "outputId": "f5b3da98-b05f-4de1-ee94-1e7b8ae7f83b"
      },
      "outputs": [
        {
          "name": "stdout",
          "output_type": "stream",
          "text": [
            "\n",
            "\t### Training Linear Regression\t###\n",
            "\n",
            "Optimal Score =  -82.47132038220482\n",
            "\n",
            "The best set of estimator is  LinearRegression(normalize=False)\n",
            "\n",
            "The best set of Parameter for the given model are:\n",
            " {'copy_X': True, 'normalize': False}\n"
          ]
        }
      ],
      "source": [
        "rgg, rgg_parameters  = regression_pipeline(rgg_opt = \"lr\")\n",
        "\n",
        "grid_rgg = GridSearchCV(rgg,\n",
        "                        param_grid=rgg_parameters,\n",
        "                       scoring=\"neg_root_mean_squared_error\",\n",
        "                       cv= 10,\n",
        "                       )\n",
        "grid_rgg.fit(X_train,y_train)\n",
        "\n",
        "best_estimator = grid_rgg.best_estimator_\n",
        "best_param = grid_rgg.best_params_\n",
        "best_score = grid_rgg.best_score_\n",
        "\n",
        "print(\"Optimal Score = \", best_score)\n",
        "print(\"\\nThe best set of estimator is \", best_estimator)\n",
        "print(\"\\nThe best set of Parameter for the given model are:\\n\", best_param)"
      ]
    },
    {
      "cell_type": "code",
      "source": [
        "rgg, rgg_parameters  = regression_pipeline(rgg_opt = \"lr\")\n",
        "\n",
        "grid_rgg = GridSearchCV(rgg,\n",
        "                        param_grid=rgg_parameters,\n",
        "                       scoring=\"neg_root_mean_squared_error\",\n",
        "                       cv= 10,\n",
        "                       )\n",
        "grid_rgg.fit(X_train,y_train)\n",
        "\n",
        "best_estimator = grid_rgg.best_estimator_\n",
        "best_param = grid_rgg.best_params_\n",
        "best_score = grid_rgg.best_score_\n",
        "\n",
        "print(\"Optimal Score = \", best_score)\n",
        "print(\"\\nThe best set of estimator is \", best_estimator)\n",
        "print(\"\\nThe best set of Parameter for the given model are:\\n\", best_param)"
      ],
      "metadata": {
        "colab": {
          "base_uri": "https://localhost:8080/"
        },
        "id": "aTXT39kRuhe3",
        "outputId": "120ac791-dd69-4908-b744-ece777f414ad"
      },
      "execution_count": 20,
      "outputs": [
        {
          "output_type": "stream",
          "name": "stdout",
          "text": [
            "\n",
            "\t### Training Linear Regression\t###\n",
            "\n",
            "Optimal Score =  -82.30026558070303\n",
            "\n",
            "The best set of estimator is  LinearRegression(fit_intercept=False, n_jobs=1, normalize=False)\n",
            "\n",
            "The best set of Parameter for the given model are:\n",
            " {'fit_intercept': False, 'n_jobs': 1}\n"
          ]
        }
      ]
    },
    {
      "cell_type": "code",
      "source": [
        "rgg, rgg_parameters  = regression_pipeline(rgg_opt = \"lr\")\n",
        "\n",
        "grid_rgg = GridSearchCV(rgg,\n",
        "                        param_grid=rgg_parameters,\n",
        "                       scoring=\"neg_root_mean_squared_error\",\n",
        "                       cv= 10,\n",
        "                       )\n",
        "grid_rgg.fit(X_train,y_train)\n",
        "\n",
        "best_estimator = grid_rgg.best_estimator_\n",
        "best_param = grid_rgg.best_params_\n",
        "best_score = grid_rgg.best_score_\n",
        "\n",
        "print(\"Optimal Score = \", best_score)\n",
        "print(\"\\nThe best set of estimator is \", best_estimator)\n",
        "print(\"\\nThe best set of Parameter for the given model are:\\n\", best_param)"
      ],
      "metadata": {
        "colab": {
          "base_uri": "https://localhost:8080/"
        },
        "id": "XXVUNeUrsUvR",
        "outputId": "75147695-0477-4fb9-fbea-aa6e9856657b"
      },
      "execution_count": 25,
      "outputs": [
        {
          "output_type": "stream",
          "name": "stdout",
          "text": [
            "\n",
            "\t### Training Linear Regression\t###\n",
            "\n",
            "Optimal Score =  -82.30026558070303\n",
            "\n",
            "The best set of estimator is  LinearRegression(fit_intercept=False, n_jobs=1, normalize=True)\n",
            "\n",
            "The best set of Parameter for the given model are:\n",
            " {'copy_X': True, 'fit_intercept': False, 'n_jobs': 1, 'normalize': True}\n"
          ]
        }
      ]
    },
    {
      "cell_type": "code",
      "execution_count": null,
      "metadata": {
        "id": "ky8ZRqY1pRQl",
        "outputId": "c1ef70ea-bc44-4fa6-928d-d641693b2f9f"
      },
      "outputs": [
        {
          "name": "stdout",
          "output_type": "stream",
          "text": [
            "\n",
            "\t### Training the K-N Regressor \t###\n",
            "\n",
            "Optimal Score =  -226.69262575485283\n",
            "\n",
            "The best set of estimator is  KNeighborsRegressor(leaf_size=20, n_neighbors=3)\n",
            "\n",
            "The best set of Parameter for the given model are:\n",
            " {'algorithm': 'auto', 'leaf_size': 20, 'n_neighbors': 3}\n"
          ]
        }
      ],
      "source": [
        "rgg, rgg_parameters  = regression_pipeline(rgg_opt = \"knn\")\n",
        "\n",
        "grid_rgg = GridSearchCV(rgg,\n",
        "                        param_grid=rgg_parameters,\n",
        "                       scoring=\"neg_root_mean_squared_error\",\n",
        "                       cv= 10,\n",
        "                       )\n",
        "grid_rgg.fit(X_train,y_train)\n",
        "\n",
        "best_estimator = grid_rgg.best_estimator_\n",
        "best_param = grid_rgg.best_params_\n",
        "best_score = grid_rgg.best_score_\n",
        "\n",
        "print(\"Optimal Score = \", best_score)\n",
        "print(\"\\nThe best set of estimator is \", best_estimator)\n",
        "print(\"\\nThe best set of Parameter for the given model are:\\n\", best_param)"
      ]
    },
    {
      "cell_type": "code",
      "execution_count": null,
      "metadata": {
        "id": "DqtZUA6UpRQr",
        "outputId": "16c48417-b4ad-4b29-90d5-4e836b8bdb1b"
      },
      "outputs": [
        {
          "name": "stdout",
          "output_type": "stream",
          "text": [
            "\n",
            "\t### Training the K-N Regressor \t###\n",
            "\n",
            "Optimal Score =  -194.29206488725336\n",
            "\n",
            "The best set of estimator is  KNeighborsRegressor(leaf_size=1, n_neighbors=2)\n",
            "\n",
            "The best set of Parameter for the given model are:\n",
            " {'algorithm': 'auto', 'leaf_size': 1, 'n_neighbors': 2}\n"
          ]
        }
      ],
      "source": [
        "rgg, rgg_parameters  = regression_pipeline(rgg_opt = \"knn\")\n",
        "\n",
        "grid_rgg = GridSearchCV(rgg,\n",
        "                        param_grid=rgg_parameters,\n",
        "                       scoring=\"neg_root_mean_squared_error\",\n",
        "                       cv= 10,\n",
        "                       )\n",
        "grid_rgg.fit(X_train,y_train)\n",
        "\n",
        "best_estimator = grid_rgg.best_estimator_\n",
        "best_param = grid_rgg.best_params_\n",
        "best_score = grid_rgg.best_score_\n",
        "\n",
        "print(\"Optimal Score = \", best_score)\n",
        "print(\"\\nThe best set of estimator is \", best_estimator)\n",
        "print(\"\\nThe best set of Parameter for the given model are:\\n\", best_param)"
      ]
    },
    {
      "cell_type": "code",
      "source": [
        "rgg, rgg_parameters  = regression_pipeline(rgg_opt = \"knn\")\n",
        "\n",
        "grid_rgg = GridSearchCV(rgg,\n",
        "                        param_grid=rgg_parameters,\n",
        "                       scoring=\"neg_root_mean_squared_error\",\n",
        "                       cv= 10,\n",
        "                       )\n",
        "grid_rgg.fit(X_train,y_train)\n",
        "\n",
        "best_estimator = grid_rgg.best_estimator_\n",
        "best_param = grid_rgg.best_params_\n",
        "best_score = grid_rgg.best_score_\n",
        "\n",
        "print(\"Optimal Score = \", best_score)\n",
        "print(\"\\nThe best set of estimator is \", best_estimator)\n",
        "print(\"\\nThe best set of Parameter for the given model are:\\n\", best_param)"
      ],
      "metadata": {
        "colab": {
          "base_uri": "https://localhost:8080/"
        },
        "id": "N57jyv3ou_ld",
        "outputId": "d672c421-f39c-49b7-fc35-794fc5dad3ee"
      },
      "execution_count": 39,
      "outputs": [
        {
          "output_type": "stream",
          "name": "stdout",
          "text": [
            "\n",
            "\t### Training the K-N Regressor \t###\n",
            "\n",
            "Optimal Score =  -194.29206488725336\n",
            "\n",
            "The best set of estimator is  KNeighborsRegressor(leaf_size=3, n_neighbors=2)\n",
            "\n",
            "The best set of Parameter for the given model are:\n",
            " {'algorithm': 'auto', 'leaf_size': 3, 'n_neighbors': 2}\n"
          ]
        }
      ]
    },
    {
      "cell_type": "code",
      "execution_count": null,
      "metadata": {
        "id": "AE2sC6p0pRQt",
        "outputId": "e124fba2-a2d4-420d-ba1c-f74f00b68594"
      },
      "outputs": [
        {
          "name": "stdout",
          "output_type": "stream",
          "text": [
            "\n",
            "\t### Training the Decision Tree Regressor\t ###\n",
            "\n",
            "Optimal Score =  -168.8466975506378\n",
            "\n",
            "The best set of estimator is  DecisionTreeRegressor(ccp_alpha=0.1, max_depth=60, max_features='auto',\n",
            "                      splitter='random')\n",
            "\n",
            "The best set of Parameter for the given model are:\n",
            " {'ccp_alpha': 0.1, 'max_depth': 60, 'max_features': 'auto', 'splitter': 'random'}\n"
          ]
        }
      ],
      "source": [
        "rgg, rgg_parameters  = regression_pipeline(rgg_opt = \"dtr\")\n",
        "\n",
        "grid_rgg = GridSearchCV(rgg,\n",
        "                        param_grid=rgg_parameters,\n",
        "                       scoring=\"neg_root_mean_squared_error\",\n",
        "                       cv= 10,\n",
        "                       )\n",
        "grid_rgg.fit(X_train,y_train)\n",
        "\n",
        "best_estimator = grid_rgg.best_estimator_\n",
        "best_param = grid_rgg.best_params_\n",
        "best_score = grid_rgg.best_score_\n",
        "\n",
        "print(\"Optimal Score = \", best_score)\n",
        "print(\"\\nThe best set of estimator is \", best_estimator)\n",
        "print(\"\\nThe best set of Parameter for the given model are:\\n\", best_param)"
      ]
    },
    {
      "cell_type": "code",
      "execution_count": null,
      "metadata": {
        "id": "dWPcfVY1pRQw",
        "outputId": "b7bbd752-7f09-4372-fbbe-9b0b692cc63d"
      },
      "outputs": [
        {
          "name": "stdout",
          "output_type": "stream",
          "text": [
            "\n",
            "\t### Training the Decision Tree Regressor\t ###\n",
            "\n",
            "Optimal Score =  -156.13218634550233\n",
            "\n",
            "The best set of estimator is  DecisionTreeRegressor(ccp_alpha=0.011, max_depth=70, max_features='sqrt')\n",
            "\n",
            "The best set of Parameter for the given model are:\n",
            " {'ccp_alpha': 0.011, 'max_depth': 70, 'max_features': 'sqrt', 'splitter': 'best'}\n"
          ]
        }
      ],
      "source": [
        "rgg, rgg_parameters  = regression_pipeline(rgg_opt = \"dtr\")\n",
        "\n",
        "grid_rgg = GridSearchCV(rgg,\n",
        "                        param_grid=rgg_parameters,\n",
        "                       scoring=\"neg_root_mean_squared_error\",\n",
        "                       cv= 10,\n",
        "                       )\n",
        "grid_rgg.fit(X_train,y_train)\n",
        "\n",
        "best_estimator = grid_rgg.best_estimator_\n",
        "best_param = grid_rgg.best_params_\n",
        "best_score = grid_rgg.best_score_\n",
        "\n",
        "print(\"Optimal Score = \", best_score)\n",
        "print(\"\\nThe best set of estimator is \", best_estimator)\n",
        "print(\"\\nThe best set of Parameter for the given model are:\\n\", best_param)"
      ]
    },
    {
      "cell_type": "code",
      "execution_count": null,
      "metadata": {
        "id": "FFHfXYBTpRQy",
        "outputId": "119b2d1c-4137-457b-ae30-8add065e8e67"
      },
      "outputs": [
        {
          "name": "stdout",
          "output_type": "stream",
          "text": [
            "\n",
            "\t### Training the Decision Tree Regressor\t ###\n",
            "\n",
            "Optimal Score =  -157.2419547010282\n",
            "\n",
            "The best set of estimator is  DecisionTreeRegressor(ccp_alpha=0.0115, max_depth=90, max_features='auto',\n",
            "                      splitter='random')\n",
            "\n",
            "The best set of Parameter for the given model are:\n",
            " {'ccp_alpha': 0.0115, 'max_depth': 90, 'max_features': 'auto', 'splitter': 'random'}\n"
          ]
        }
      ],
      "source": [
        "rgg, rgg_parameters  = regression_pipeline(rgg_opt = \"dtr\")\n",
        "\n",
        "grid_rgg = GridSearchCV(rgg,\n",
        "                        param_grid=rgg_parameters,\n",
        "                       scoring=\"neg_root_mean_squared_error\",\n",
        "                       cv= 10,\n",
        "                       )\n",
        "grid_rgg.fit(X_train,y_train)\n",
        "\n",
        "best_estimator = grid_rgg.best_estimator_\n",
        "best_param = grid_rgg.best_params_\n",
        "best_score = grid_rgg.best_score_\n",
        "\n",
        "print(\"Optimal Score = \", best_score)\n",
        "print(\"\\nThe best set of estimator is \", best_estimator)\n",
        "print(\"\\nThe best set of Parameter for the given model are:\\n\", best_param)"
      ]
    },
    {
      "cell_type": "code",
      "execution_count": 6,
      "metadata": {
        "colab": {
          "base_uri": "https://localhost:8080/"
        },
        "id": "ggXw76xGpRQ0",
        "outputId": "1fd3e93b-25d9-412a-f251-27f8d73b144a"
      },
      "outputs": [
        {
          "output_type": "stream",
          "name": "stdout",
          "text": [
            "\n",
            "\t### Training the Decision Tree Regressor\t ###\n",
            "\n",
            "Optimal Score =  -153.94773130141624\n",
            "\n",
            "The best set of estimator is  DecisionTreeRegressor(ccp_alpha=0.0098, max_depth=80, max_features='log2',\n",
            "                      splitter='random')\n",
            "\n",
            "The best set of Parameter for the given model are:\n",
            " {'ccp_alpha': 0.0098, 'max_depth': 80, 'max_features': 'log2', 'splitter': 'random'}\n"
          ]
        }
      ],
      "source": [
        "rgg, rgg_parameters  = regression_pipeline(rgg_opt = \"dtr\")\n",
        "\n",
        "grid_rgg = GridSearchCV(rgg,\n",
        "                        param_grid=rgg_parameters,\n",
        "                       scoring=\"neg_root_mean_squared_error\",\n",
        "                       cv= 10,\n",
        "                       )\n",
        "grid_rgg.fit(X_train,y_train)\n",
        "\n",
        "best_estimator = grid_rgg.best_estimator_\n",
        "best_param = grid_rgg.best_params_\n",
        "best_score = grid_rgg.best_score_\n",
        "\n",
        "print(\"Optimal Score = \", best_score)\n",
        "print(\"\\nThe best set of estimator is \", best_estimator)\n",
        "print(\"\\nThe best set of Parameter for the given model are:\\n\", best_param)"
      ]
    },
    {
      "cell_type": "code",
      "source": [
        "rgg, rgg_parameters  = regression_pipeline(rgg_opt = \"dtr\")\n",
        "\n",
        "grid_rgg = GridSearchCV(rgg,\n",
        "                        param_grid=rgg_parameters,\n",
        "                       scoring=\"neg_root_mean_squared_error\",\n",
        "                       cv= 10,\n",
        "                       )\n",
        "grid_rgg.fit(X_train,y_train)\n",
        "\n",
        "best_estimator = grid_rgg.best_estimator_\n",
        "best_param = grid_rgg.best_params_\n",
        "best_score = grid_rgg.best_score_\n",
        "\n",
        "print(\"Optimal Score = \", best_score)\n",
        "print(\"\\nThe best set of estimator is \", best_estimator)\n",
        "print(\"\\nThe best set of Parameter for the given model are:\\n\", best_param)"
      ],
      "metadata": {
        "colab": {
          "base_uri": "https://localhost:8080/"
        },
        "id": "9D3ioh_NrPQl",
        "outputId": "0b867dd8-fccf-4d54-95ec-3c61b381e8ac"
      },
      "execution_count": 8,
      "outputs": [
        {
          "output_type": "stream",
          "name": "stdout",
          "text": [
            "\n",
            "\t### Training the Decision Tree Regressor\t ###\n",
            "\n",
            "Optimal Score =  -162.38749176708188\n",
            "\n",
            "The best set of estimator is  DecisionTreeRegressor(ccp_alpha=0.0115, max_depth=80, splitter='random')\n",
            "\n",
            "The best set of Parameter for the given model are:\n",
            " {'ccp_alpha': 0.0115, 'max_depth': 80, 'splitter': 'random'}\n"
          ]
        }
      ]
    },
    {
      "cell_type": "code",
      "execution_count": null,
      "metadata": {
        "id": "GIPbAtXipRQ2",
        "outputId": "8dc6c6d7-0b25-43d0-9d40-fa9a15256d33"
      },
      "outputs": [
        {
          "name": "stdout",
          "output_type": "stream",
          "text": [
            "\n",
            "\t ### Traing the Random Forest Regressor \t###\n",
            "\n",
            "Optimal Score =  -126.90070986056386\n",
            "\n",
            "The best set of estimator is  RandomForestRegressor(ccp_alpha=0.05, max_depth=20, max_features=None,\n",
            "                      n_estimators=30)\n",
            "\n",
            "The best set of Parameter for the given model are:\n",
            " {'ccp_alpha': 0.05, 'max_depth': 20, 'n_estimators': 30}\n"
          ]
        }
      ],
      "source": [
        "rgg, rgg_parameters  = regression_pipeline(rgg_opt = \"rfr\")\n",
        "\n",
        "grid_rgg = GridSearchCV(rgg,\n",
        "                        param_grid=rgg_parameters,\n",
        "                       scoring=\"neg_root_mean_squared_error\",\n",
        "                       cv= 10,\n",
        "                       )\n",
        "grid_rgg.fit(X_train,y_train)\n",
        "\n",
        "best_estimator = grid_rgg.best_estimator_\n",
        "best_param = grid_rgg.best_params_\n",
        "best_score = grid_rgg.best_score_\n",
        "\n",
        "print(\"Optimal Score = \", best_score)\n",
        "print(\"\\nThe best set of estimator is \", best_estimator)\n",
        "print(\"\\nThe best set of Parameter for the given model are:\\n\", best_param)"
      ]
    },
    {
      "cell_type": "code",
      "execution_count": null,
      "metadata": {
        "id": "R1KiMyDspRQ4",
        "outputId": "15671d17-e77b-47d9-841f-1c64fa0dc5cd"
      },
      "outputs": [
        {
          "name": "stdout",
          "output_type": "stream",
          "text": [
            "\n",
            "\t ### Traing the Random Forest Regressor \t###\n",
            "\n",
            "Optimal Score =  -127.14198722313422\n",
            "\n",
            "The best set of estimator is  RandomForestRegressor(ccp_alpha=0.03, max_depth=15, max_features=None,\n",
            "                      n_estimators=40)\n",
            "\n",
            "The best set of Parameter for the given model are:\n",
            " {'ccp_alpha': 0.03, 'max_depth': 15, 'n_estimators': 40}\n"
          ]
        }
      ],
      "source": [
        "rgg, rgg_parameters  = regression_pipeline(rgg_opt = \"rfr\")\n",
        "\n",
        "grid_rgg = GridSearchCV(rgg,\n",
        "                        param_grid=rgg_parameters,\n",
        "                       scoring=\"neg_root_mean_squared_error\",\n",
        "                       cv= 10,\n",
        "                       )\n",
        "grid_rgg.fit(X_train,y_train)\n",
        "\n",
        "best_estimator = grid_rgg.best_estimator_\n",
        "best_param = grid_rgg.best_params_\n",
        "best_score = grid_rgg.best_score_\n",
        "\n",
        "print(\"Optimal Score = \", best_score)\n",
        "print(\"\\nThe best set of estimator is \", best_estimator)\n",
        "print(\"\\nThe best set of Parameter for the given model are:\\n\", best_param)"
      ]
    },
    {
      "cell_type": "code",
      "execution_count": null,
      "metadata": {
        "id": "hBghUrInpRQ6",
        "outputId": "01e1f451-9b95-4606-8c5d-07cc782ba99e"
      },
      "outputs": [
        {
          "name": "stdout",
          "output_type": "stream",
          "text": [
            "\n",
            "\t ### Traing the Random Forest Regressor \t###\n",
            "\n",
            "Optimal Score =  -122.14698024337267\n",
            "\n",
            "The best set of estimator is  RandomForestRegressor(ccp_alpha=0.07, max_depth=20, max_features=None,\n",
            "                      n_estimators=29)\n",
            "\n",
            "The best set of Parameter for the given model are:\n",
            " {'ccp_alpha': 0.07, 'max_depth': 20, 'n_estimators': 29}\n"
          ]
        }
      ],
      "source": [
        "rgg, rgg_parameters  = regression_pipeline(rgg_opt = \"rfr\")\n",
        "\n",
        "grid_rgg = GridSearchCV(rgg,\n",
        "                        param_grid=rgg_parameters,\n",
        "                       scoring=\"neg_root_mean_squared_error\",\n",
        "                       cv= 10,\n",
        "                       )\n",
        "grid_rgg.fit(X_train,y_train)\n",
        "\n",
        "best_estimator = grid_rgg.best_estimator_\n",
        "best_param = grid_rgg.best_params_\n",
        "best_score = grid_rgg.best_score_\n",
        "\n",
        "print(\"Optimal Score = \", best_score)\n",
        "print(\"\\nThe best set of estimator is \", best_estimator)\n",
        "print(\"\\nThe best set of Parameter for the given model are:\\n\", best_param)"
      ]
    },
    {
      "cell_type": "code",
      "execution_count": 35,
      "metadata": {
        "colab": {
          "base_uri": "https://localhost:8080/"
        },
        "id": "LUVdWNrcpRQ7",
        "outputId": "cb134c84-d73d-4f6e-9439-3fe4465321a9"
      },
      "outputs": [
        {
          "output_type": "stream",
          "name": "stdout",
          "text": [
            "\n",
            "\t ### Training the Random Forest Regressor \t###\n",
            "\n",
            "Optimal Score =  -117.34445116309652\n",
            "\n",
            "The best set of estimator is  RandomForestRegressor(ccp_alpha=0.065, max_depth=10, max_features=None,\n",
            "                      n_estimators=19)\n",
            "\n",
            "The best set of Parameter for the given model are:\n",
            " {'ccp_alpha': 0.065, 'max_depth': 10, 'n_estimators': 19}\n"
          ]
        }
      ],
      "source": [
        "rgg, rgg_parameters  = regression_pipeline(rgg_opt = \"rfr\")\n",
        "\n",
        "grid_rgg = GridSearchCV(rgg,\n",
        "                        param_grid=rgg_parameters,\n",
        "                       scoring=\"neg_root_mean_squared_error\",\n",
        "                       cv= 10,\n",
        "                       )\n",
        "grid_rgg.fit(X_train,y_train)\n",
        "\n",
        "best_estimator = grid_rgg.best_estimator_\n",
        "best_param = grid_rgg.best_params_\n",
        "best_score = grid_rgg.best_score_\n",
        "\n",
        "print(\"Optimal Score = \", best_score)\n",
        "print(\"\\nThe best set of estimator is \", best_estimator)\n",
        "print(\"\\nThe best set of Parameter for the given model are:\\n\", best_param)"
      ]
    },
    {
      "cell_type": "code",
      "source": [
        "lr = LinearRegression(fit_intercept= False)"
      ],
      "metadata": {
        "id": "hOZbWKEerO1H"
      },
      "execution_count": 45,
      "outputs": []
    },
    {
      "cell_type": "code",
      "source": [
        "lr.fit(X_train,y_train)"
      ],
      "metadata": {
        "colab": {
          "base_uri": "https://localhost:8080/"
        },
        "id": "0F7glg84rpa8",
        "outputId": "05916650-24be-4be5-930b-3a16c5e3832e"
      },
      "execution_count": 46,
      "outputs": [
        {
          "output_type": "execute_result",
          "data": {
            "text/plain": [
              "LinearRegression(fit_intercept=False)"
            ]
          },
          "metadata": {},
          "execution_count": 46
        }
      ]
    },
    {
      "cell_type": "code",
      "source": [
        "df_test = pd.read_csv('/test_data.csv')\n",
        "df_test = df_test.iloc[:,1:]\n",
        "X_Prediction = df_test\n",
        "Y_prediction = lr.predict(X_Prediction)"
      ],
      "metadata": {
        "id": "vammCg5AkvKX"
      },
      "execution_count": 47,
      "outputs": []
    },
    {
      "cell_type": "code",
      "source": [
        "float(Y_prediction[1])"
      ],
      "metadata": {
        "colab": {
          "base_uri": "https://localhost:8080/"
        },
        "id": "flx7unJKs5IT",
        "outputId": "fbf3fd2d-7ff6-4cc3-d1b9-8d162f9bd846"
      },
      "execution_count": 51,
      "outputs": [
        {
          "output_type": "execute_result",
          "data": {
            "text/plain": [
              "606.6506505732966"
            ]
          },
          "metadata": {},
          "execution_count": 51
        }
      ]
    },
    {
      "cell_type": "code",
      "source": [
        "labels = open(\"Yash_Saxena_Label_file.txt\", \"w+\")\n",
        "for i in range(len(Y_prediction)):\n",
        "    labels.write(str(df_test.ts[i]) +\",\"+ str(float(Y_prediction[i])) + \"\\n\")\n",
        "labels.close()"
      ],
      "metadata": {
        "id": "LPbdECl51V5Q"
      },
      "execution_count": 52,
      "outputs": []
    }
  ],
  "metadata": {
    "kernelspec": {
      "display_name": "Python 3",
      "language": "python",
      "name": "python3"
    },
    "language_info": {
      "codemirror_mode": {
        "name": "ipython",
        "version": 3
      },
      "file_extension": ".py",
      "mimetype": "text/x-python",
      "name": "python",
      "nbconvert_exporter": "python",
      "pygments_lexer": "ipython3",
      "version": "3.8.8"
    },
    "colab": {
      "name": "Yash_Saxena_code(Final).ipynb",
      "provenance": []
    }
  },
  "nbformat": 4,
  "nbformat_minor": 0
}